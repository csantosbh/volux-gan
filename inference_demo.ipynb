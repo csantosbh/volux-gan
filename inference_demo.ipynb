{
 "cells": [
  {
   "cell_type": "code",
   "execution_count": 1,
   "id": "e1e92d04",
   "metadata": {
    "scrolled": true
   },
   "outputs": [
    {
     "name": "stderr",
     "output_type": "stream",
     "text": [
      "2022-08-11 22:55:02.552421: W tensorflow/stream_executor/platform/default/dso_loader.cc:64] Could not load dynamic library 'libcudart.so.11.0'; dlerror: libcudart.so.11.0: cannot open shared object file: No such file or directory; LD_LIBRARY_PATH: /usr/lib/mesa-diverted/x86_64-linux-gnu:/usr/lib/x86_64-linux-gnu/mesa:/usr/lib/x86_64-linux-gnu/dri:/usr/lib/x86_64-linux-gnu/gallium-pipe\n",
      "2022-08-11 22:55:02.552473: I tensorflow/stream_executor/cuda/cudart_stub.cc:29] Ignore above cudart dlerror if you do not have a GPU set up on your machine.\n"
     ]
    }
   ],
   "source": [
    "import tensorflow as tf\n",
    "import tensorflow_addons as tfa\n",
    "import gin\n",
    "import model\n",
    "import numpy as np\n",
    "import math\n",
    "import cv2\n",
    "import os\n",
    "import imageio\n",
    "from tqdm import tqdm"
   ]
  },
  {
   "cell_type": "code",
   "execution_count": 2,
   "id": "6436f565",
   "metadata": {},
   "outputs": [
    {
     "name": "stderr",
     "output_type": "stream",
     "text": [
      "2022-08-11 22:55:05.788765: W tensorflow/stream_executor/platform/default/dso_loader.cc:64] Could not load dynamic library 'libcuda.so.1'; dlerror: libcuda.so.1: cannot open shared object file: No such file or directory; LD_LIBRARY_PATH: /usr/local/google/home/feitongtan/anaconda3/envs/py310-tf/lib/python3.10/site-packages/cv2/../../lib64:/usr/lib/mesa-diverted/x86_64-linux-gnu:/usr/lib/x86_64-linux-gnu/mesa:/usr/lib/x86_64-linux-gnu/dri:/usr/lib/x86_64-linux-gnu/gallium-pipe\n",
      "2022-08-11 22:55:05.788834: W tensorflow/stream_executor/cuda/cuda_driver.cc:269] failed call to cuInit: UNKNOWN ERROR (303)\n",
      "2022-08-11 22:55:05.788876: I tensorflow/stream_executor/cuda/cuda_diagnostics.cc:156] kernel driver does not appear to be running on this host (feitongtan00.bej.corp.google.com): /proc/driver/nvidia/version does not exist\n",
      "2022-08-11 22:55:05.792902: I tensorflow/core/platform/cpu_feature_guard.cc:151] This TensorFlow binary is optimized with oneAPI Deep Neural Network Library (oneDNN) to use the following CPU instructions in performance-critical operations:  AVX2 FMA\n",
      "To enable them in other operations, rebuild TensorFlow with the appropriate compiler flags.\n"
     ]
    }
   ],
   "source": [
    "gin_path = './checkpoint/config_train.gin'\n",
    "gin_configs = [gin_path]\n",
    "with gin.unlock_config():\n",
    "  gin.parse_config_files_and_bindings(\n",
    "      config_files=gin_configs, bindings=None, skip_unknown=True)\n",
    "\n",
    "seed=8\n",
    "tf.random.set_seed(seed)\n",
    "np.random.seed(seed)\n",
    "rng = tf.random.Generator.from_seed(seed)"
   ]
  },
  {
   "cell_type": "code",
   "execution_count": 3,
   "id": "9862b574",
   "metadata": {
    "scrolled": true
   },
   "outputs": [
    {
     "data": {
      "text/plain": [
       "<tensorflow.python.training.tracking.util.CheckpointLoadStatus at 0x7fdfa06c2050>"
      ]
     },
     "execution_count": 3,
     "metadata": {},
     "output_type": "execute_result"
    }
   ],
   "source": [
    "models, model_kwargs = model.create_models(device='cpu')\n",
    "train_kwargs = model.create_train_params()\n",
    "\n",
    "ckpt_kwargs = {\n",
    "    'models': models,\n",
    "}\n",
    "\n",
    "checkpoint = tf.train.Checkpoint(**ckpt_kwargs)\n",
    "checkpoint_path = './checkpoint/pretrained_model'\n",
    "checkpoint.restore(checkpoint_path)"
   ]
  },
  {
   "cell_type": "code",
   "execution_count": 8,
   "id": "2a4a08bb",
   "metadata": {},
   "outputs": [],
   "source": [
    "def parse_hdri_batch(hdri_dir):\n",
    "    diffuse_hdr_map_path = os.path.join(hdri_dir, 'diffuse.hdr')\n",
    "    specular_hdr_map_16_path = os.path.join(hdri_dir, 'specular_16.hdr')\n",
    "    specular_hdr_map_32_path = os.path.join(hdri_dir, 'specular_32.hdr')\n",
    "    specular_hdr_map_64_path = os.path.join(hdri_dir, 'specular_64.hdr')\n",
    "\n",
    "    diffuse_hdr_map = cv2.imread(diffuse_hdr_map_path, flags=cv2.IMREAD_ANYDEPTH)\n",
    "    specular_hdr_map_16 = cv2.imread(specular_hdr_map_16_path, flags=cv2.IMREAD_ANYDEPTH)\n",
    "    specular_hdr_map_32 = cv2.imread(specular_hdr_map_32_path, flags=cv2.IMREAD_ANYDEPTH)\n",
    "    specular_hdr_map_64 = cv2.imread(specular_hdr_map_64_path, flags=cv2.IMREAD_ANYDEPTH)\n",
    "    \n",
    "    hdri_batch = {\n",
    "        'diffuse_hdr_map': diffuse_hdr_map,\n",
    "        'specular_hdr_map_16': specular_hdr_map_16,\n",
    "        'specular_hdr_map_32': specular_hdr_map_32,\n",
    "        'specular_hdr_map_64': specular_hdr_map_64,\n",
    "    }\n",
    "\n",
    "    return hdri_batch\n",
    "\n",
    "def shift_hdri(hdri_batch, pixel_shift):\n",
    "    new_batch = {}\n",
    "    for key in hdri_batch:\n",
    "        new_batch[key] = tf.concat([hdri_batch[key][:,:,pixel_shift:],hdri_batch[key][:,:,:pixel_shift]], axis=2)\n",
    "    return new_batch"
   ]
  },
  {
   "cell_type": "code",
   "execution_count": 7,
   "id": "4b90dd8e",
   "metadata": {},
   "outputs": [
    {
     "name": "stderr",
     "output_type": "stream",
     "text": [
      "100%|█████████████████████████████████████████████| 3/3 [00:23<00:00,  7.69s/it]\n"
     ]
    }
   ],
   "source": [
    "# Rotate camera\n",
    "\n",
    "half_num_images = 1\n",
    "rendered_albedo = []\n",
    "rendered_relit = []\n",
    "\n",
    "hdri_dir = './example_hdri/birbeck_street_underpass_16k'\n",
    "hdri_batch = parse_hdri_batch(hdri_dir)\n",
    "for key in hdri_batch:\n",
    "    hdri_batch[key] = np.expand_dims(hdri_batch[key], axis=0)\n",
    "\n",
    "azimuths = np.linspace(-np.deg2rad(half_num_images)*5, np.deg2rad(half_num_images)*5, half_num_images * 2+1, endpoint=False)\n",
    "fix_latent_code = rng.normal((1,512))\n",
    "for h_shift in tqdm(azimuths, total=num_images*2+1):\n",
    "    (front_rgb, front_depth, front_normal, front_masks,\n",
    "    _) = models['generator'].inference_interpolate(\n",
    "        fix_latent_code,\n",
    "        img_size=model_kwargs['image_size'],\n",
    "        fov=model_kwargs['fov'],\n",
    "        ray_start=model_kwargs['ray_start'],\n",
    "        ray_end=model_kwargs['ray_end'],\n",
    "        num_samples=32,\n",
    "        h_stddev=0.0,\n",
    "        v_stddev=0.0,\n",
    "        h_mean=math.pi * 0.5 + h_shift,\n",
    "        v_mean=math.pi * 0.5,\n",
    "        psi=0.5,\n",
    "        hierarchical_num_samples=32,\n",
    "        sample_dist=model_kwargs['sample_dist'],\n",
    "        white_back=model_kwargs['white_back'],\n",
    "        has_background=model_kwargs['has_background'],\n",
    "        sample_at_infinity=model_kwargs['sample_at_infinity'],\n",
    "        nerf_noise=0.0)\n",
    "\n",
    "    (front_relit, diffuse_light,\n",
    "    specular_light) = models['generator'].infer_relit(front_rgb, front_normal, front_masks,\n",
    "                                        hdri_batch)\n",
    "\n",
    "    vis_albedo = (front_rgb['high'][1][0] + 1) /2\n",
    "    vis_albedo = tf.clip_by_value(vis_albedo, 0.0, 1.0)\n",
    "    vis_albedo=(vis_albedo.numpy()*255).astype(np.uint8)\n",
    "\n",
    "    vis_relit_image = (front_relit[0] + 1) /2\n",
    "    vis_relit_image = tf.clip_by_value(vis_relit_image, 0.0, 1.0)\n",
    "    vis_relit_image=(vis_relit_image.numpy()*255).astype(np.uint8)\n",
    "\n",
    "\n",
    "    rendered_albedo.append(vis_albedo)\n",
    "    rendered_relit.append(vis_relit_image)\n",
    "\n",
    "imageio.mimsave('./albedo.gif', rendered_albedo)\n",
    "imageio.mimsave('./relit.gif', rendered_relit)\n",
    "\n",
    "\n",
    "\n",
    "    "
   ]
  },
  {
   "cell_type": "code",
   "execution_count": null,
   "id": "a845132f",
   "metadata": {},
   "outputs": [
    {
     "name": "stderr",
     "output_type": "stream",
     "text": [
      " 95%|████████████████████████████████████████▊  | 57/60 [06:38<00:21,  7.09s/it]"
     ]
    }
   ],
   "source": [
    "# Rotate HDRI\n",
    "\n",
    "num_images = 60\n",
    "rendered_albedo = []\n",
    "rendered_relit = []\n",
    "\n",
    "hdri_dir = './example_hdri/birbeck_street_underpass_16k'\n",
    "hdri_batch = parse_hdri_batch(hdri_dir)\n",
    "for key in hdri_batch:\n",
    "    hdri_batch[key] = np.expand_dims(hdri_batch[key], axis=0)\n",
    "    \n",
    "circle_percents = enumerate(np.linspace(0, 1, num_images))\n",
    "fix_latent_code = rng.normal((1,512))\n",
    "for _, circle_percent in tqdm(circle_percents, total=num_images):\n",
    "    shift_pixel = int(circle_percent*128) % 128\n",
    "    rotated_batch = shift_hdri(hdri_batch, shift_pixel)\n",
    "    \n",
    "    (front_rgb, front_depth, front_normal, front_masks,\n",
    "    _) = models['generator'].inference_interpolate(\n",
    "        fix_latent_code,\n",
    "        img_size=model_kwargs['image_size'],\n",
    "        fov=model_kwargs['fov'],\n",
    "        ray_start=model_kwargs['ray_start'],\n",
    "        ray_end=model_kwargs['ray_end'],\n",
    "        num_samples=32,\n",
    "        h_stddev=0.0,\n",
    "        v_stddev=0.0,\n",
    "        h_mean=math.pi * 0.5 + h_shift,\n",
    "        v_mean=math.pi * 0.5,\n",
    "        psi=0.5,\n",
    "        hierarchical_num_samples=32,\n",
    "        sample_dist=model_kwargs['sample_dist'],\n",
    "        white_back=model_kwargs['white_back'],\n",
    "        has_background=model_kwargs['has_background'],\n",
    "        sample_at_infinity=model_kwargs['sample_at_infinity'],\n",
    "        nerf_noise=0.0)\n",
    "\n",
    "    (front_relit, diffuse_light,\n",
    "    specular_light) = models['generator'].infer_relit(front_rgb, front_normal, front_masks,\n",
    "                                        rotated_batch)\n",
    "\n",
    "    vis_albedo = (front_rgb['high'][1][0] + 1) /2\n",
    "    vis_albedo = tf.clip_by_value(vis_albedo, 0.0, 1.0)\n",
    "    vis_albedo=(vis_albedo.numpy()*255).astype(np.uint8)\n",
    "\n",
    "    vis_relit_image = (front_relit[0] + 1) /2\n",
    "    vis_relit_image = tf.clip_by_value(vis_relit_image, 0.0, 1.0)\n",
    "    vis_relit_image=(vis_relit_image.numpy()*255).astype(np.uint8)\n",
    "\n",
    "\n",
    "    rendered_albedo.append(vis_albedo)\n",
    "    rendered_relit.append(vis_relit_image)\n",
    "\n",
    "imageio.mimsave('./albedo.gif', rendered_albedo)\n",
    "imageio.mimsave('./relit.gif', rendered_relit)\n",
    "\n",
    "\n",
    "\n",
    "    "
   ]
  },
  {
   "cell_type": "code",
   "execution_count": null,
   "id": "7beaa5ae",
   "metadata": {},
   "outputs": [],
   "source": []
  },
  {
   "cell_type": "code",
   "execution_count": null,
   "id": "ceb9dcfa",
   "metadata": {},
   "outputs": [],
   "source": []
  }
 ],
 "metadata": {
  "kernelspec": {
   "display_name": "Python 3 (ipykernel)",
   "language": "python",
   "name": "python3"
  },
  "language_info": {
   "codemirror_mode": {
    "name": "ipython",
    "version": 3
   },
   "file_extension": ".py",
   "mimetype": "text/x-python",
   "name": "python",
   "nbconvert_exporter": "python",
   "pygments_lexer": "ipython3",
   "version": "3.10.4"
  }
 },
 "nbformat": 4,
 "nbformat_minor": 5
}
