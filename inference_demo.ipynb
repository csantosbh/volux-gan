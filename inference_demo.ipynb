{
 "cells": [
  {
   "cell_type": "code",
   "execution_count": 1,
   "id": "e1e92d04",
   "metadata": {
    "scrolled": true
   },
   "outputs": [
    {
     "name": "stderr",
     "output_type": "stream",
     "text": [
      "2022-08-11 22:28:15.898450: W tensorflow/stream_executor/platform/default/dso_loader.cc:64] Could not load dynamic library 'libcudart.so.11.0'; dlerror: libcudart.so.11.0: cannot open shared object file: No such file or directory; LD_LIBRARY_PATH: /usr/lib/mesa-diverted/x86_64-linux-gnu:/usr/lib/x86_64-linux-gnu/mesa:/usr/lib/x86_64-linux-gnu/dri:/usr/lib/x86_64-linux-gnu/gallium-pipe\n",
      "2022-08-11 22:28:15.898511: I tensorflow/stream_executor/cuda/cudart_stub.cc:29] Ignore above cudart dlerror if you do not have a GPU set up on your machine.\n"
     ]
    },
    {
     "ename": "ModuleNotFoundError",
     "evalue": "No module named 'volux_gan'",
     "output_type": "error",
     "traceback": [
      "\u001b[0;31m---------------------------------------------------------------------------\u001b[0m",
      "\u001b[0;31mModuleNotFoundError\u001b[0m                       Traceback (most recent call last)",
      "Input \u001b[0;32mIn [1]\u001b[0m, in \u001b[0;36m<cell line: 4>\u001b[0;34m()\u001b[0m\n\u001b[1;32m      2\u001b[0m \u001b[38;5;28;01mimport\u001b[39;00m \u001b[38;5;21;01mtensorflow_addons\u001b[39;00m \u001b[38;5;28;01mas\u001b[39;00m \u001b[38;5;21;01mtfa\u001b[39;00m\n\u001b[1;32m      3\u001b[0m \u001b[38;5;28;01mimport\u001b[39;00m \u001b[38;5;21;01mgin\u001b[39;00m\n\u001b[0;32m----> 4\u001b[0m \u001b[38;5;28;01mimport\u001b[39;00m \u001b[38;5;21;01mmodel\u001b[39;00m\n\u001b[1;32m      5\u001b[0m \u001b[38;5;28;01mimport\u001b[39;00m \u001b[38;5;21;01mnumpy\u001b[39;00m \u001b[38;5;28;01mas\u001b[39;00m \u001b[38;5;21;01mnp\u001b[39;00m\n\u001b[1;32m      6\u001b[0m \u001b[38;5;28;01mimport\u001b[39;00m \u001b[38;5;21;01mmath\u001b[39;00m\n",
      "File \u001b[0;32m~/Documents/volux-gan/model.py:23\u001b[0m, in \u001b[0;36m<module>\u001b[0;34m\u001b[0m\n\u001b[1;32m     20\u001b[0m \u001b[38;5;28;01mimport\u001b[39;00m \u001b[38;5;21;01mgin\u001b[39;00m\n\u001b[1;32m     21\u001b[0m \u001b[38;5;28;01mimport\u001b[39;00m \u001b[38;5;21;01mtensorflow\u001b[39;00m \u001b[38;5;28;01mas\u001b[39;00m \u001b[38;5;21;01mtf\u001b[39;00m\n\u001b[0;32m---> 23\u001b[0m \u001b[38;5;28;01mfrom\u001b[39;00m \u001b[38;5;21;01mgenerator\u001b[39;00m \u001b[38;5;28;01mimport\u001b[39;00m relit_generator\n\u001b[1;32m     25\u001b[0m \u001b[38;5;129m@gin\u001b[39m\u001b[38;5;241m.\u001b[39mconfigurable()\n\u001b[1;32m     26\u001b[0m \u001b[38;5;28;01mdef\u001b[39;00m \u001b[38;5;21mcreate_models\u001b[39m(\n\u001b[1;32m     27\u001b[0m     latent_dim\u001b[38;5;241m=\u001b[39m\u001b[38;5;241m256\u001b[39m,\n\u001b[0;32m   (...)\u001b[0m\n\u001b[1;32m     49\u001b[0m     device\u001b[38;5;241m=\u001b[39m\u001b[38;5;124m'\u001b[39m\u001b[38;5;124mgpu\u001b[39m\u001b[38;5;124m'\u001b[39m,\n\u001b[1;32m     50\u001b[0m ):\n\u001b[1;32m     51\u001b[0m   \u001b[38;5;124;03m\"\"\"Initializes Nerf-related models based on the configuration.\"\"\"\u001b[39;00m\n",
      "File \u001b[0;32m~/Documents/volux-gan/generator/relit_generator.py:26\u001b[0m, in \u001b[0;36m<module>\u001b[0;34m\u001b[0m\n\u001b[1;32m     24\u001b[0m \u001b[38;5;28;01mfrom\u001b[39;00m \u001b[38;5;21;01mgenerator\u001b[39;00m \u001b[38;5;28;01mimport\u001b[39;00m relit_lib\n\u001b[1;32m     25\u001b[0m \u001b[38;5;28;01mfrom\u001b[39;00m \u001b[38;5;21;01mgenerator\u001b[39;00m \u001b[38;5;28;01mimport\u001b[39;00m volumetric_rendering\n\u001b[0;32m---> 26\u001b[0m \u001b[38;5;28;01mfrom\u001b[39;00m \u001b[38;5;21;01mgenerator\u001b[39;00m\u001b[38;5;21;01m.\u001b[39;00m\u001b[38;5;21;01mnetwork\u001b[39;00m \u001b[38;5;28;01mimport\u001b[39;00m nerf_lib\n\u001b[1;32m     27\u001b[0m \u001b[38;5;28;01mfrom\u001b[39;00m \u001b[38;5;21;01mgenerator\u001b[39;00m\u001b[38;5;21;01m.\u001b[39;00m\u001b[38;5;21;01mnetwork\u001b[39;00m \u001b[38;5;28;01mimport\u001b[39;00m resunet_extractor_lib\n\u001b[1;32m     29\u001b[0m _MAPPING_LAYER_DIMENSION \u001b[38;5;241m=\u001b[39m \u001b[38;5;241m512\u001b[39m\n",
      "File \u001b[0;32m~/Documents/volux-gan/generator/network/nerf_lib.py:25\u001b[0m, in \u001b[0;36m<module>\u001b[0;34m\u001b[0m\n\u001b[1;32m     23\u001b[0m \u001b[38;5;28;01mfrom\u001b[39;00m \u001b[38;5;21;01mgenerator\u001b[39;00m\u001b[38;5;21;01m.\u001b[39;00m\u001b[38;5;21;01mnetwork\u001b[39;00m \u001b[38;5;28;01mimport\u001b[39;00m embedding_layers\n\u001b[1;32m     24\u001b[0m \u001b[38;5;28;01mfrom\u001b[39;00m \u001b[38;5;21;01mgenerator\u001b[39;00m\u001b[38;5;21;01m.\u001b[39;00m\u001b[38;5;21;01mnetwork\u001b[39;00m \u001b[38;5;28;01mimport\u001b[39;00m modulated_conv1d \u001b[38;5;28;01mas\u001b[39;00m conv1_mod\n\u001b[0;32m---> 25\u001b[0m \u001b[38;5;28;01mfrom\u001b[39;00m \u001b[38;5;21;01mvolux_gan\u001b[39;00m\u001b[38;5;21;01m.\u001b[39;00m\u001b[38;5;21;01mgenerator\u001b[39;00m\u001b[38;5;21;01m.\u001b[39;00m\u001b[38;5;21;01mnetwork\u001b[39;00m \u001b[38;5;28;01mimport\u001b[39;00m modulated_conv2d \u001b[38;5;28;01mas\u001b[39;00m conv2_mod\n\u001b[1;32m     27\u001b[0m _NUM_FREQS \u001b[38;5;241m=\u001b[39m \u001b[38;5;241m10\u001b[39m\n\u001b[1;32m     30\u001b[0m \u001b[38;5;28;01mclass\u001b[39;00m \u001b[38;5;21;01mBlurPool2D\u001b[39;00m(tf\u001b[38;5;241m.\u001b[39mkeras\u001b[38;5;241m.\u001b[39mlayers\u001b[38;5;241m.\u001b[39mLayer):\n",
      "\u001b[0;31mModuleNotFoundError\u001b[0m: No module named 'volux_gan'"
     ]
    }
   ],
   "source": [
    "import tensorflow as tf\n",
    "import tensorflow_addons as tfa\n",
    "import gin\n",
    "import model\n",
    "import numpy as np\n",
    "import math\n",
    "import cv2\n",
    "import os\n",
    "import imageio\n",
    "from tqdm import tqdm"
   ]
  },
  {
   "cell_type": "code",
   "execution_count": null,
   "id": "6436f565",
   "metadata": {},
   "outputs": [],
   "source": [
    "gin_path = './checkpoint/config_train.gin'\n",
    "gin_configs = [gin_path]\n",
    "with gin.unlock_config():\n",
    "  gin.parse_config_files_and_bindings(\n",
    "      config_files=gin_configs, bindings=None, skip_unknown=True)\n",
    "\n",
    "seed=8\n",
    "tf.random.set_seed(seed)\n",
    "np.random.seed(seed)\n",
    "rng = tf.random.Generator.from_seed(seed)"
   ]
  },
  {
   "cell_type": "code",
   "execution_count": null,
   "id": "9862b574",
   "metadata": {
    "scrolled": true
   },
   "outputs": [],
   "source": [
    "models, model_kwargs = model.create_models(device='cpu')\n",
    "train_kwargs = model.create_train_params()\n",
    "\n",
    "ckpt_kwargs = {\n",
    "    'models': models,\n",
    "}\n",
    "\n",
    "checkpoint = tf.train.Checkpoint(**ckpt_kwargs)\n",
    "checkpoint_path = './checkpoint/pretrained_model'\n",
    "checkpoint.restore(checkpoint_path)"
   ]
  },
  {
   "cell_type": "code",
   "execution_count": 2,
   "id": "2a4a08bb",
   "metadata": {},
   "outputs": [],
   "source": [
    "def parse_hdri_batch(hdri_dir):\n",
    "    diffuse_hdr_map_path = os.path.join(hdri_dir, 'diffuse.hdr')\n",
    "    specular_hdr_map_16_path = os.path.join(hdri_dir, 'specular_16.hdr')\n",
    "    specular_hdr_map_32_path = os.path.join(hdri_dir, 'specular_32.hdr')\n",
    "    specular_hdr_map_64_path = os.path.join(hdri_dir, 'specular_64.hdr')\n",
    "\n",
    "    diffuse_hdr_map = cv2.imread(diffuse_hdr_map_path, flags=cv2.IMREAD_ANYDEPTH)\n",
    "    specular_hdr_map_16 = cv2.imread(specular_hdr_map_16_path, flags=cv2.IMREAD_ANYDEPTH)\n",
    "    specular_hdr_map_32 = cv2.imread(specular_hdr_map_32_path, flags=cv2.IMREAD_ANYDEPTH)\n",
    "    specular_hdr_map_64 = cv2.imread(specular_hdr_map_64_path, flags=cv2.IMREAD_ANYDEPTH)\n",
    "    \n",
    "    hdri_batch = {\n",
    "        'diffuse_hdr_map': diffuse_hdr_map,\n",
    "        'specular_hdr_map_16': specular_hdr_map_16,\n",
    "        'specular_hdr_map_32': specular_hdr_map_32,\n",
    "        'specular_hdr_map_64': specular_hdr_map_64,\n",
    "    }\n",
    "\n",
    "    return hdri_batch\n"
   ]
  },
  {
   "cell_type": "code",
   "execution_count": 3,
   "id": "00ee2af5",
   "metadata": {},
   "outputs": [
    {
     "ename": "NameError",
     "evalue": "name 'os' is not defined",
     "output_type": "error",
     "traceback": [
      "\u001b[0;31m---------------------------------------------------------------------------\u001b[0m",
      "\u001b[0;31mNameError\u001b[0m                                 Traceback (most recent call last)",
      "Input \u001b[0;32mIn [3]\u001b[0m, in \u001b[0;36m<cell line: 7>\u001b[0;34m()\u001b[0m\n\u001b[1;32m      3\u001b[0m rendered_relit \u001b[38;5;241m=\u001b[39m []\n\u001b[1;32m      6\u001b[0m hdri_dir \u001b[38;5;241m=\u001b[39m \u001b[38;5;124m'\u001b[39m\u001b[38;5;124m./example_hdri/birbeck_street_underpass_16k\u001b[39m\u001b[38;5;124m'\u001b[39m\n\u001b[0;32m----> 7\u001b[0m hdri_batch \u001b[38;5;241m=\u001b[39m \u001b[43mparse_hdri_batch\u001b[49m\u001b[43m(\u001b[49m\u001b[43mhdri_dir\u001b[49m\u001b[43m)\u001b[49m\n\u001b[1;32m      8\u001b[0m \u001b[38;5;28;01mfor\u001b[39;00m key \u001b[38;5;129;01min\u001b[39;00m hdri_batch:\n\u001b[1;32m      9\u001b[0m     hdri_batch[key] \u001b[38;5;241m=\u001b[39m np\u001b[38;5;241m.\u001b[39mexpand_dims(hdri_batch[key], axis\u001b[38;5;241m=\u001b[39m\u001b[38;5;241m0\u001b[39m)\n",
      "Input \u001b[0;32mIn [2]\u001b[0m, in \u001b[0;36mparse_hdri_batch\u001b[0;34m(hdri_dir)\u001b[0m\n\u001b[1;32m      1\u001b[0m \u001b[38;5;28;01mdef\u001b[39;00m \u001b[38;5;21mparse_hdri_batch\u001b[39m(hdri_dir):\n\u001b[0;32m----> 2\u001b[0m     diffuse_hdr_map_path \u001b[38;5;241m=\u001b[39m \u001b[43mos\u001b[49m\u001b[38;5;241m.\u001b[39mpath\u001b[38;5;241m.\u001b[39mjoin(hdri_dir, \u001b[38;5;124m'\u001b[39m\u001b[38;5;124mdiffuse.hdr\u001b[39m\u001b[38;5;124m'\u001b[39m)\n\u001b[1;32m      3\u001b[0m     specular_hdr_map_16_path \u001b[38;5;241m=\u001b[39m os\u001b[38;5;241m.\u001b[39mpath\u001b[38;5;241m.\u001b[39mjoin(hdri_dir, \u001b[38;5;124m'\u001b[39m\u001b[38;5;124mspecular_16.hdr\u001b[39m\u001b[38;5;124m'\u001b[39m)\n\u001b[1;32m      4\u001b[0m     specular_hdr_map_32_path \u001b[38;5;241m=\u001b[39m os\u001b[38;5;241m.\u001b[39mpath\u001b[38;5;241m.\u001b[39mjoin(hdri_dir, \u001b[38;5;124m'\u001b[39m\u001b[38;5;124mspecular_32.hdr\u001b[39m\u001b[38;5;124m'\u001b[39m)\n",
      "\u001b[0;31mNameError\u001b[0m: name 'os' is not defined"
     ]
    }
   ],
   "source": [
    "num_images = 1\n",
    "rendered_albedo = []\n",
    "rendered_relit = []\n",
    "\n",
    "\n",
    "hdri_dir = './example_hdri/birbeck_street_underpass_16k'\n",
    "hdri_batch = parse_hdri_batch(hdri_dir)\n",
    "for key in hdri_batch:\n",
    "    hdri_batch[key] = np.expand_dims(hdri_batch[key], axis=0)\n",
    "\n",
    "azimuths = np.linspace(-np.deg2rad(num_images)*5, np.deg2rad(num_images)*5, num_images * 2+1, endpoint=False)\n",
    "fix_latent_code = rng.normal((1,512))\n",
    "for h_shift in tqdm(azimuths, total=num_images*2+1):\n",
    "    (front_rgb, front_depth, front_normal, front_masks,\n",
    "    _) = models['generator'].inference_interpolate(\n",
    "        fix_latent_code,\n",
    "        img_size=model_kwargs['image_size'],\n",
    "        fov=model_kwargs['fov'],\n",
    "        ray_start=model_kwargs['ray_start'],\n",
    "        ray_end=model_kwargs['ray_end'],\n",
    "        num_samples=32,\n",
    "        h_stddev=0.0,\n",
    "        v_stddev=0.0,\n",
    "        h_mean=math.pi * 0.5 + h_shift,\n",
    "        v_mean=math.pi * 0.5,\n",
    "        psi=0.5,\n",
    "        hierarchical_num_samples=32,\n",
    "        sample_dist=model_kwargs['sample_dist'],\n",
    "        white_back=model_kwargs['white_back'],\n",
    "        has_background=model_kwargs['has_background'],\n",
    "        sample_at_infinity=model_kwargs['sample_at_infinity'],\n",
    "        nerf_noise=0.0)\n",
    "\n",
    "    (front_relit, diffuse_light,\n",
    "    specular_light) = models['generator'].infer_relit(front_rgb, front_normal, front_masks,\n",
    "                                        hdri_batch)\n",
    "\n",
    "    vis_albedo = (front_rgb['high'][1][0] + 1) /2\n",
    "    vis_albedo = tf.clip_by_value(vis_albedo, 0.0, 1.0)\n",
    "    vis_albedo=(vis_albedo.numpy()*255).astype(np.uint8)\n",
    "\n",
    "    vis_relit_image = (front_relit[0] + 1) /2\n",
    "    vis_relit_image = tf.clip_by_value(vis_relit_image, 0.0, 1.0)\n",
    "    vis_relit_image=(vis_relit_image.numpy()*255).astype(np.uint8)\n",
    "\n",
    "\n",
    "    rendered_albedo.append(vis_albedo)\n",
    "    rendered_relit.append(vis_relit_image)\n",
    "\n",
    "imageio.mimsave('./albedo.gif', rendered_albedo)\n",
    "imageio.mimsave('./relit.gif', rendered_relit)\n",
    "\n",
    "\n",
    "\n",
    "    "
   ]
  },
  {
   "cell_type": "code",
   "execution_count": null,
   "id": "7beaa5ae",
   "metadata": {},
   "outputs": [],
   "source": []
  },
  {
   "cell_type": "code",
   "execution_count": null,
   "id": "ceb9dcfa",
   "metadata": {},
   "outputs": [],
   "source": []
  }
 ],
 "metadata": {
  "kernelspec": {
   "display_name": "Python 3 (ipykernel)",
   "language": "python",
   "name": "python3"
  },
  "language_info": {
   "codemirror_mode": {
    "name": "ipython",
    "version": 3
   },
   "file_extension": ".py",
   "mimetype": "text/x-python",
   "name": "python",
   "nbconvert_exporter": "python",
   "pygments_lexer": "ipython3",
   "version": "3.10.4"
  }
 },
 "nbformat": 4,
 "nbformat_minor": 5
}
